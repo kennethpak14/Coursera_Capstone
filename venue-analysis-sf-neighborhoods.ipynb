{
 "cells": [
  {
   "cell_type": "markdown",
   "metadata": {},
   "source": [
    "# Venue Analysis of San Francisco Neighborhoods\n",
    "*Written by: Kenneth Pak*"
   ]
  },
  {
   "cell_type": "markdown",
   "metadata": {},
   "source": [
    "---\n",
    "## Introduction "
   ]
  },
  {
   "cell_type": "markdown",
   "metadata": {},
   "source": [
    "When a company or individual is looking to open a new store, location plays a strong role in the early success of a budding enterprise. While outstanding products and quality service are an essential part in retaining customers, with an unfavorable location, the venue might not gain enough traction for the business to start. The location of a venue determines a large portion of the visibility, foot traffic, and potential competitors.\n",
    "\n",
    "That being said, this problem is a broad issue. There are a lot of nuances in determining the optimal spot, and it would not be as simple as running a quick algorithm; however, there are ways that the research could be narrowed down, and this analysis is one method in doing so.\n",
    "\n",
    "For the scope of this analysis, the different neighborhoods of San Francisco will be segmented and clustered based on restaurant data to recommend potential desirable areas for opening a new restaurant. "
   ]
  },
  {
   "cell_type": "markdown",
   "metadata": {},
   "source": [
    "---\n",
    "## Data"
   ]
  },
  {
   "cell_type": "markdown",
   "metadata": {},
   "source": [
    "In this analysis, there will be *three* types of data:\n",
    "\n",
    "**Neighborhood data**: Data will be scraped from [this website](http://www.healthysf.org/bdi/outcomes/zipmap.htm) to get a list of postal codes, and their respective neighborhoods, and population data.\n",
    "\n",
    "**Geolocation data**: Using the geocoder package, the geolocation of all the neighborhoods are grabbed to give proper coordinates when using the Foursquared API to search for venues.\n",
    "\n",
    "**Venue data**: Venues nearby to the neighborhood will be grabbed using the Foursquared API. The nearby venues will be coupled with the neighborhood locations to cluster the neighborhoods in distinct groups."
   ]
  },
  {
   "cell_type": "code",
   "execution_count": null,
   "metadata": {},
   "outputs": [],
   "source": []
  }
 ],
 "metadata": {
  "kernelspec": {
   "display_name": "Python 3",
   "language": "python",
   "name": "python3"
  },
  "language_info": {
   "codemirror_mode": {
    "name": "ipython",
    "version": 3
   },
   "file_extension": ".py",
   "mimetype": "text/x-python",
   "name": "python",
   "nbconvert_exporter": "python",
   "pygments_lexer": "ipython3",
   "version": "3.7.4"
  }
 },
 "nbformat": 4,
 "nbformat_minor": 2
}
